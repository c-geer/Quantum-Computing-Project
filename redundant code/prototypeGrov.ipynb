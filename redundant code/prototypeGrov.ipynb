{
 "cells": [
  {
   "cell_type": "code",
   "execution_count": 1,
   "id": "2108a308-a7d0-4033-b5d1-4abaa167ff6d",
   "metadata": {},
   "outputs": [],
   "source": [
    "## imports ##\n",
    "import numpy as np"
   ]
  },
  {
   "cell_type": "code",
   "execution_count": 13,
   "id": "bc5081d3-9243-4233-85ad-9640b5c2ac84",
   "metadata": {},
   "outputs": [],
   "source": [
    "def hadamard(n):\n",
    "    \"\"\"\n",
    "    Parameters: \n",
    "    n - number of qubits\n",
    "\n",
    "    Returns:\n",
    "    Hadamard Matrix of size 2**n x 2**n\n",
    "\n",
    "    --------------------\n",
    "    n is determined by: \n",
    "    N = 2**n, N is size of list\n",
    "    => n = ln(N)/ln(2)    \n",
    "    --------------------\n",
    "    \"\"\"\n",
    "    \n",
    "    H = np.array([[1, 1], [1, -1]]) / np.sqrt(2) # Hadamard matrix for a single qubit\n",
    "    Hn = H # initialise Hadamad Matrix for n qubits to H (for single qubit) \n",
    "    for _ in range(n - 1):\n",
    "        # get Hadamard Matrix for n elements by taking kronecker delta product\n",
    "        Hn = np.kron(Hn, H)  # does H_1 ⊗ H_n-1\n",
    "    return Hn"
   ]
  },
  {
   "cell_type": "code",
   "execution_count": 14,
   "id": "334f835e-112e-4d23-8e4b-be082fb10018",
   "metadata": {},
   "outputs": [],
   "source": [
    "def oracle(n, marked_state):\n",
    "    \"\"\"\n",
    "    Parameters:\n",
    "    n - number of qubits\n",
    "    marked_state - value we are finding in the unstructured list\n",
    "\n",
    "    Returns:\n",
    "    Oracle matrix which has marked the desired state\n",
    "\n",
    "    ----------\n",
    "    Oracle Matrix:\n",
    "    This has O(1) each time its called, because it acts on the superposition of states\n",
    "    By acting on the superposition of states it flips the winning state,\n",
    "    thus the winning state has negative probability of being found\n",
    "    ----------\n",
    "    \"\"\"\n",
    "\n",
    "    N = 2**n # size of list of data\n",
    "    O = np.identity(N) # identity matrix of size NxN\n",
    "    O[marked_state, marked_state] = -1  # Flip phase of marked state\n",
    "\n",
    "    return O"
   ]
  },
  {
   "cell_type": "code",
   "execution_count": 26,
   "id": "2fc3b9a8-d047-43ed-9dd9-b81e0b8a787f",
   "metadata": {},
   "outputs": [],
   "source": [
    "def diffusion_operator(n):\n",
    "    \"\"\"\n",
    "    Parameters:\n",
    "    n - number of qubits\n",
    "\n",
    "    Returns:\n",
    "    Grover's Diffusion operator - function called for flippig and amplifying winning state \n",
    "\n",
    "    ----------\n",
    "    Grover's Diffusion operator:\n",
    "    \n",
    "    ----------\n",
    "    \"\"\"\n",
    "\n",
    "    N = 2**n  # Total states\n",
    "    J = np.ones((N, N))  # Matrix of all ones\n",
    "    I = np.identity(N)   # Identity matrix\n",
    "    D = 2 * J / N - I    # Reflection about the mean\n",
    "    return D\n"
   ]
  },
  {
   "cell_type": "code",
   "execution_count": 27,
   "id": "86d059b3-27ff-445d-aca5-df9a9541738c",
   "metadata": {},
   "outputs": [],
   "source": [
    "def grover(n, marked_state, iterations=2):\n",
    "    \"\"\"\n",
    "    Parameters:\n",
    "\n",
    "    Returns:\n",
    "    \n",
    "    \"\"\"\n",
    "    \n",
    "    N = 2**n\n",
    "    if iterations is None:\n",
    "        iterations = int(np.pi / 4 * np.sqrt(N))  # Optimal number of iterations\n",
    "\n",
    "    # Initial state: Uniform superposition\n",
    "    state = np.ones(N) / np.sqrt(N)\n",
    "\n",
    "    # Define Oracle and Diffusion Operators\n",
    "    O = oracle(n, marked_state)\n",
    "    D = diffusion_operator(n)\n",
    "\n",
    "    # Apply Grover Iterations\n",
    "    for _ in range(iterations):\n",
    "        state = O @ state  # Apply Oracle\n",
    "        state = D @ state  # Apply Diffusion Operator\n",
    "    # Measurement: Identify the highest probability state\n",
    "    probabilities = np.abs(state) ** 2\n",
    "    result = np.argmax(probabilities)  # Most probable state\n",
    "    \n",
    "    return result, probabilities"
   ]
  },
  {
   "cell_type": "code",
   "execution_count": 32,
   "id": "cc5bdaa0-f364-4e6a-89a5-015d015eb4a6",
   "metadata": {},
   "outputs": [
    {
     "name": "stdout",
     "output_type": "stream",
     "text": [
      "Most probable outcome: 5\n",
      "Probability distribution: [0.0078125 0.0078125 0.0078125 0.0078125 0.0078125 0.9453125 0.0078125\n",
      " 0.0078125]\n"
     ]
    }
   ],
   "source": [
    "# Run Grover’s Algorithm for 3 qubits (N = 8) searching for x* = 5\n",
    "n_qubits = 3\n",
    "marked_state = 5\n",
    "result, probs = grover(n_qubits, marked_state)\n",
    "\n",
    "print(f\"Most probable outcome: {result}\")\n",
    "print(f\"Probability distribution: {probs}\")\n"
   ]
  },
  {
   "cell_type": "code",
   "execution_count": null,
   "id": "2dd1579f-c839-4c7c-a3cd-34455a7b40ef",
   "metadata": {},
   "outputs": [],
   "source": []
  }
 ],
 "metadata": {
  "kernelspec": {
   "display_name": "Python 3 (ipykernel)",
   "language": "python",
   "name": "python3"
  },
  "language_info": {
   "codemirror_mode": {
    "name": "ipython",
    "version": 3
   },
   "file_extension": ".py",
   "mimetype": "text/x-python",
   "name": "python",
   "nbconvert_exporter": "python",
   "pygments_lexer": "ipython3",
   "version": "3.11.7"
  }
 },
 "nbformat": 4,
 "nbformat_minor": 5
}
